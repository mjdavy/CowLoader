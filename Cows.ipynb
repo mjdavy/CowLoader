{
 "cells": [
  {
   "cell_type": "code",
   "execution_count": 1,
   "metadata": {},
   "outputs": [],
   "source": [
    "from pathlib import Path\n",
    "from google_images_download import google_images_download\n",
    "\n",
    "\n",
    "cow_breeds = ['Fresian Cow','Shorthorn Cow','Vosges Cow','Jersey Cow','Allgauer Cow','Guernsey Cow','Angler Cow','Charolais Cow','Brown Swiss ']\n",
    "output_folder = Path('D:\\Data\\Cows')\n"
   ]
  },
  {
   "cell_type": "code",
   "execution_count": 2,
   "metadata": {},
   "outputs": [
    {
     "data": {
      "text/plain": [
       "WindowsPath('D:/Data/Cows')"
      ]
     },
     "execution_count": 2,
     "metadata": {},
     "output_type": "execute_result"
    }
   ],
   "source": [
    "\n",
    "output_folder"
   ]
  },
  {
   "cell_type": "code",
   "execution_count": 3,
   "metadata": {
    "collapsed": true
   },
   "outputs": [
    {
     "data": {
      "text/plain": [
       "['Fresian',\n",
       " 'Shorthorn',\n",
       " 'Vosges',\n",
       " 'Jersey',\n",
       " 'Allgauer',\n",
       " 'Guernsey',\n",
       " 'Angler',\n",
       " 'Charolais',\n",
       " 'Brown Swiss']"
      ]
     },
     "execution_count": 3,
     "metadata": {},
     "output_type": "execute_result"
    }
   ],
   "source": [
    "cow_breeds"
   ]
  },
  {
   "cell_type": "code",
   "execution_count": null,
   "metadata": {},
   "outputs": [],
   "source": []
  }
 ],
 "metadata": {
  "kernelspec": {
   "display_name": "Python 3",
   "language": "python",
   "name": "python3"
  },
  "language_info": {
   "codemirror_mode": {
    "name": "ipython",
    "version": 3
   },
   "file_extension": ".py",
   "mimetype": "text/x-python",
   "name": "python",
   "nbconvert_exporter": "python",
   "pygments_lexer": "ipython3",
   "version": "3.7.1"
  }
 },
 "nbformat": 4,
 "nbformat_minor": 2
}
