{
 "cells": [
  {
   "cell_type": "code",
   "execution_count": 6,
   "metadata": {},
   "outputs": [],
   "source": [
    "from pathlib import Path\n",
    "from google_images_download import google_images_download\n",
    "\n",
    "\n",
    "cow_breeds = ['Fresian','Shorthorn','Vosges','Jersey','Allgauer','Guernsey','Angler','Charolais','Brown Swiss']\n",
    "output_folder = Path('D:\\Data\\Cows')\n"
   ]
  },
  {
   "cell_type": "code",
   "execution_count": 7,
   "metadata": {},
   "outputs": [
    {
     "data": {
      "text/plain": [
       "WindowsPath('D:/Data/Cows')"
      ]
     },
     "execution_count": 7,
     "metadata": {},
     "output_type": "execute_result"
    }
   ],
   "source": [
    "\n",
    "output_folder"
   ]
  },
  {
   "cell_type": "code",
   "execution_count": 8,
   "metadata": {},
   "outputs": [
    {
     "data": {
      "text/plain": [
       "['Fresian',\n",
       " 'Shorthorn',\n",
       " 'Vosges',\n",
       " 'Jersey',\n",
       " 'Allgauer',\n",
       " 'Guernsey',\n",
       " 'Angler',\n",
       " 'Charolais',\n",
       " 'Brown Swiss']"
      ]
     },
     "execution_count": 8,
     "metadata": {},
     "output_type": "execute_result"
    }
   ],
   "source": [
    "cow_breeds"
   ]
  },
  {
   "cell_type": "code",
   "execution_count": 41,
   "metadata": {},
   "outputs": [
    {
     "data": {
      "text/plain": [
       "[{'keywords': 'Fresian Cow', 'output_directory': 'D:\\\\Data\\\\Cows'},\n",
       " {'keywords': 'Shorthorn Cow', 'output_directory': 'D:\\\\Data\\\\Cows'},\n",
       " {'keywords': 'Vosges Cow', 'output_directory': 'D:\\\\Data\\\\Cows'},\n",
       " {'keywords': 'Jersey Cow', 'output_directory': 'D:\\\\Data\\\\Cows'},\n",
       " {'keywords': 'Allgauer Cow', 'output_directory': 'D:\\\\Data\\\\Cows'},\n",
       " {'keywords': 'Guernsey Cow', 'output_directory': 'D:\\\\Data\\\\Cows'},\n",
       " {'keywords': 'Angler Cow', 'output_directory': 'D:\\\\Data\\\\Cows'},\n",
       " {'keywords': 'Charolais Cow', 'output_directory': 'D:\\\\Data\\\\Cows'},\n",
       " {'keywords': 'Brown Swiss Cow', 'output_directory': 'D:\\\\Data\\\\Cows'}]"
      ]
     },
     "execution_count": 41,
     "metadata": {},
     "output_type": "execute_result"
    }
   ],
   "source": [
    "arguments = [{\"keywords\":f\"{k} Cow\",\"output_directory\":f\"{output_folder}\"} for k in cow_breeds]\n",
    "arguments"
   ]
  },
  {
   "cell_type": "code",
   "execution_count": 33,
   "metadata": {},
   "outputs": [],
   "source": [
    "response = google_images_download.googleimagesdownload() "
   ]
  },
  {
   "cell_type": "code",
   "execution_count": 39,
   "metadata": {},
   "outputs": [],
   "source": [
    "arguments = {\"keywords\":\"Fresian Cow\",\"limit\":1,\"output_directory\":\"D:\\\\Data\\\\Cows\"}   "
   ]
  },
  {
   "cell_type": "code",
   "execution_count": 43,
   "metadata": {},
   "outputs": [
    {
     "name": "stdout",
     "output_type": "stream",
     "text": [
      "\n",
      "Item no.: 1 --> Item name = Fresian Cow\n",
      "Evaluating...\n",
      "Starting Download...\n",
      "Completed Image ====> 1. cow_female_black_white.jpg\n",
      "Completed Image ====> 2. friesiancow.jpg\n",
      "Completed Image ====> 3. hqdefault.jpg\n",
      "Completed Image ====> 4. holstein+friesian.jpg\n",
      "Completed Image ====> 5. maxresdefault.jpg\n",
      "Completed Image ====> 6. r0_0_4585_2578_w1200_h678_fmax.jpg\n",
      "Completed Image ====> 7. 523-004-1aae9389.jpg\n",
      "Completed Image ====> 8. p-15704-pc.jpg\n",
      "Completed Image ====> 9. holstein-friesian-cow-stock-photography_csp55250607.jpg\n",
      "Completed Image ====> 10. large-friesian-cow-standing-in-a-lush-green-field-looking-directly-c47e8t.jpg\n",
      "Completed Image ====> 11. laurin_dcera_web.jpg\n",
      "Completed Image ====> 12. 900_1832022highres.jpg\n",
      "Completed Image ====> 13. friesianbull.jpg\n",
      "Completed Image ====> 14. friesian-jersey-cross-1024x683.jpg\n",
      "Completed Image ====> 15. hf-holstein-friesian-cows-061.jpg\n",
      "Completed Image ====> 16. holstein-friesian-cow-538.jpg\n",
      "Completed Image ====> 17. 220px-holstein_heifer.jpg\n",
      "Completed Image ====> 18. holstein-friesian-cattle-cow-pics-collection.jpg\n",
      "Completed Image ====> 19. monaco_web.jpg\n",
      "Completed Image ====> 20. dairy-holstein-friesian-cow.jpg\n",
      "Completed Image ====> 21. 83690799-red-and-white-holstein-friesian-cow-grazing-in-grassland-.jpg\n",
      "Completed Image ====> 22. 349bc0d2b2253d67c549c635e18e5dd9.jpg\n",
      "Completed Image ====> 23. deangate-queenie-9th-18-yrs-old.jpg\n",
      "Completed Image ====> 24. cows.jpg\n",
      "Completed Image ====> 25. giant-cow-404_670343c.jpg\n",
      "Completed Image ====> 26. hqdefault.jpg\n",
      "Completed Image ====> 27. article-2266206-1714ce7a000005dc-142_634x698.jpg\n",
      "Completed Image ====> 28. holstein.gif\n",
      "Completed Image ====> 29. side-view-of-holstein-friesian-cow-on-grass-pasture-devon-am1r7e.jpg\n",
      "Completed Image ====> 30. maxresdefault.jpg\n",
      "Completed Image ====> 31. holstein.jpg\n",
      "Completed Image ====> 32. 1.jpg\n",
      "Completed Image ====> 33. milkpx.jpg\n",
      "Completed Image ====> 34. holstein-friesian-cow-1506423643-3356988.jpg\n",
      "Completed Image ====> 35. friesian.jpg\n",
      "Completed Image ====> 36. ope_heide_foekje.jpg\n",
      "Completed Image ====> 37. il%20spillane%20%202.jpg\n",
      "Completed Image ====> 38. 76950-004-45ab6cb3.jpg\n",
      "Completed Image ====> 39. holstein-friesian-cow_large.jpg\n",
      "Completed Image ====> 40. c0d6af345f00f476d490ad404137d62a.jpg\n",
      "Completed Image ====> 41. hermke_drievoud.jpg\n",
      "Completed Image ====> 42. education_cows.jpg\n",
      "Completed Image ====> 43. holstein-heifer-1-1-364x273.jpg\n",
      "Completed Image ====> 44. maxresdefault.jpg\n",
      "Completed Image ====> 45. 250px-cheshire_cattle.jpg\n",
      "Completed Image ====> 46. line-of-holstein-friesian-cows-dumfries-and-galloway-scotland-by4mx1.jpg\n",
      "Completed Image ====> 47. hf-cow.jpg\n",
      "Completed Image ====> 48. holstein-friesian-cow.jpg\n",
      "Completed Image ====> 49. 56560972-black-and-white-holstein-friesian-cow.jpg\n",
      "Completed Image ====> 50. holstein-friesian-cattle-500x500.jpg\n",
      "Completed Image ====> 51. holstein-friesian-cow-ca-1933-usa-holstein-friesian-cow-9777177.jpg\n",
      "Completed Image ====> 52. black-white-cow-hsbc.jpeg\n",
      "Completed Image ====> 53. friesian-cow-260nw-104897039.jpg\n",
      "Completed Image ====> 54. hqdefault.jpg\n",
      "Completed Image ====> 55. bigstock-friesian-cow-14359742.jpg\n",
      "Completed Image ====> 56. holstein-friesian-cows-bulling-devon-am1r7d.jpg\n",
      "Completed Image ====> 57. two-holsteinfriesian-cows-in-field-england-picture-id305491-002?b=1&k=6&m=305491-002&s=612x612&w=0&h=ko1oneddr-qka0u2gf17yuuz0boemfht4pkcax35560=.jpg\n",
      "Completed Image ====> 58. ?format=1500w.jpg\n",
      "Completed Image ====> 59. 61p-plw69zl._sx425_.jpg\n",
      "Completed Image ====> 60. surfenne_20110603_9720.jpg\n",
      "Completed Image ====> 61. heifers_1_ogp-1024x682.jpg\n",
      "Completed Image ====> 62. friesaian-cow2.jpg\n",
      "URLError on an image...trying next one... Error: HTTP Error 403: Forbidden\n",
      "Completed Image ====> 63. cbf06b3aa448d0f67690607fcd317ed8.jpg\n",
      "Completed Image ====> 64. picture21-1030x773.png\n",
      "Completed Image ====> 65. friesian-cow-stock-photo_csp27558228.jpg\n",
      "Completed Image ====> 66. friesian-cows-picture-id90790890.jpg\n",
      "Completed Image ====> 67. holstein-friesian-milking-cow-on-good-summer-grassland-devon-c0tm3m.jpg\n",
      "Completed Image ====> 68. hqdefault.jpg\n",
      "Completed Image ====> 69. cow%20friesian%20australia%20dairy%20farming%20pakistan.jpg\n",
      "Completed Image ====> 70. goldfriesiancowc.jpg\n",
      "Completed Image ====> 71. holstein-friesian-cattle-vector-15599015.jpg\n",
      "Completed Image ====> 72. fr%20heifer.jpg\n",
      "Completed Image ====> 73. 7751798-3x2-940x627.jpg\n",
      "Completed Image ====> 74. 61bage4-z6l._sx425_.jpg\n",
      "Completed Image ====> 75. holstein-friesian-cow.jpg\n",
      "Completed Image ====> 76. holsteins-cow.jpg\n",
      "Completed Image ====> 77. feeding-300x179.jpg\n",
      "Completed Image ====> 78. ope_heide_groep2.jpg\n",
      "Completed Image ====> 79. 136111-004-c620aa83.jpg\n",
      "Completed Image ====> 80. friesian-cows-in-field-picture-id688273523?s=612x612.jpg\n",
      "Completed Image ====> 81. ideal_bull_modern.jpg\n",
      "Completed Image ====> 82. depositphotos_180905392-stock-photo-black-white-holstein-friesian-cows.jpg\n",
      "Completed Image ====> 83. 220px-holstein_friesian_or_friesian_cow.jpg\n",
      "Completed Image ====> 84. holstein-friesian-cow-grazing-on-field-p54mww.jpg\n",
      "Completed Image ====> 85. 19842989859_2de9bbfb2e_b.jpg\n",
      "Completed Image ====> 86. holstein-friesian-cow-dairy-cattle-mammals_u-l-q135lmh0.jpg\n",
      "Completed Image ====> 87. cattle-breeding-holstein-cow-in-profile-photo-that-can-be-cut-out-picture-id590672643?s=612x612.jpg\n",
      "Completed Image ====> 88. friesian-cow-vector-657106.jpg\n",
      "Completed Image ====> 89. holstein-friesian-cows.jpg\n",
      "Completed Image ====> 90. holstein-friesian-cow.jpg\n",
      "Completed Image ====> 91. stock-photo-friesian-cow-114815056.jpg\n",
      "Completed Image ====> 92. kisscc0-holstein-friesian-cattle-braunvieh-dairy-cattle-im-male-cow-standing-5b4df989b8c4f1.4739180315318368097568.jpg\n",
      "Completed Image ====> 93. 83690798-black-and-white-holstein-friesian-cow-grazing-in-grassland-.jpg\n",
      "Completed Image ====> 94. herd-black-white-holstein-friesian-260nw-304392011.jpg\n",
      "Completed Image ====> 95. kisspng-holstein-friesian-cattle-dairy-cattle-sheep-livest-clarabelle-cow-5ad21dfdc23b60.9590089215237196777956.jpg\n",
      "Completed Image ====> 96. 0881fdb9-abb9-16bf-325e-0d7d1125113a_1000.jpg\n",
      "Completed Image ====> 97. holstein-friesian-cattle-from-cows-facebook-300x190.jpg\n",
      "Completed Image ====> 98. 1486155213cows.jpg\n",
      "Completed Image ====> 99. maxresdefault.jpg\n",
      "\n",
      "Errors: 1\n",
      "\n"
     ]
    }
   ],
   "source": [
    "paths = response.download(arguments[0])"
   ]
  },
  {
   "cell_type": "code",
   "execution_count": null,
   "metadata": {},
   "outputs": [],
   "source": []
  }
 ],
 "metadata": {
  "kernelspec": {
   "display_name": "Python 3",
   "language": "python",
   "name": "python3"
  },
  "language_info": {
   "codemirror_mode": {
    "name": "ipython",
    "version": 3
   },
   "file_extension": ".py",
   "mimetype": "text/x-python",
   "name": "python",
   "nbconvert_exporter": "python",
   "pygments_lexer": "ipython3",
   "version": "3.7.1"
  }
 },
 "nbformat": 4,
 "nbformat_minor": 2
}
